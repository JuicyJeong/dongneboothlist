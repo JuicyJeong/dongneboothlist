{
 "cells": [
  {
   "cell_type": "code",
   "execution_count": 47,
   "metadata": {},
   "outputs": [
    {
     "name": "stdout",
     "output_type": "stream",
     "text": [
      "815\n",
      "['@goodteethguys', '@110Mandarin', '@s2ie77', '@LUN_CH_, @xx_betti', '@i6to3', 'Annbbang', '.', 'mug__1010', 'wandu_sd, rn_fla_12123', '@gononglll', '@bburang_100,@iqFMyIaYdo3NtBh', 'YON2_42_', '_CORNCHI_', '@ret_ooj', '@SD_TOB, @wkqmfldpf', '@mitsu_Umai, @llill11_mytak', '@00HUISU00 ', '@HanseD257, @Dongo_time, @sh_right_06', '@phaleplum', '@rept_06', 'asebury', '@charon_22', '@__hello_dear_06', '@sorong33', '@kununk030', '_grimu', 'sunjang_chujang', 'cream5989', '@_1__1__1__', '@__hanyu_B__', '@momof0715', '@jabtteok2', '@little_modao', '@im_best_food', '@sem2_world', '@lO9gy', '@prayer_meta', '@rustina06', '@TRGV_34_V / @Trigun_yeonji', '@goodbeing_, @MP_Fostress, @oKKRo_911', '@sipir02', '@chiaki_0219', 'kitami28', '@Gongbangdear', '@TNG2O_', '@ionblue', '@Habitromance431', '', '@s_lemong @JAL_fn', 'filiaulcopt', '@Love__ppi', '@SapiMustDie/@baefwood', '@My_Planet_Doll', 'yy_yy__yyy', 'sjsksh_o', 'B4MB0N', 'raindroplena', '', 'sourcream0314', 'softyor_tor', '2rabbits ', 'mei__sai', '@info_xxxxxx', '@ysseyssey', 'heroaca_petit', '@KHR_Varia_plz88', '@sickziguuu,@pp10pple', 'https://twitter.com/SasagelolURMine', 'moonmoon318', '@imgeum_001', '@SeolzaGuestbook', '__stoneheart_', '@masitda_msor77', '@syromire', '', 'z12341231556', '@mob0322', '@cheolsu_o', '@muk_OP', '@rksd1dur', '@llIIllIIlIlIo, @hosing_', 's2zzulevs2', '@80o0o0o08', '@fu_duri', ' @bbttup', 'geguri_store', 'geguri_store', '@meilmeil_0', '@renconabductor', 'eogeoljwi', 'kimlaegon911', '@D100NG @nakm8_ @Ddu_100', '@sebeom_ ', '@Lida_0706', 'play_gtime', 'da_haebit', '@drrn_loveday', '@baguri_wick', '@DMWM_novel', '\\u2066\\u202a@wagamamahimez\\u202c\\u2069', '.', '@nongbam_oO,@poorthing__', 'kireo791014', 'mmdd45c', '@baske_tta @10n_nri', '@HS_DDAE', '@L_1aw1iet', '@pinytus', 'cmslash', '@vivid_1231', '@ca_ravan', 'sam_one111', '@hotclare0987', '@192cm_baby_damn', '@Space_Tacoyakki', 'yanpsk_03', '@kkoog_TT', 'srsrver3', '@youdahxx', '@hobbyist_RAF', '@88____16', '', 'B4SK3TBAL1_', '@fofo__on', '@omimuyo', '@Eva_7474 , @k1vGGP , @TMRIGUN', '@jen_3580 / @fluffy_summer__', '', '@Null_watching', '', 'dlqtldkrrnl', '@panda_3913', '@ye_190X666', '@una_em', '@iced_chocohaim', '@avcadoandpotato', '', 'sangyonggam', '@G_Deepblue', '@snsstk3', '@eeemo_alien', '@ebdwl123', '@rayca01', '@ejoo1011 ', '@Mimic_dw', '@gimppyongppyon4 / @michin_burning', 'SweetLemonBalm', '@Sstofgoak_, @SION_428', '@wntGT_230130', '@orange_d_podo', '@syongtaro', '@A_S15771577, @kkax2___, @trigun_gun, @Kummerspeck_J', '@sangakjung', '@rO5oORolxV45228, @dndpdndpdn, @ju_saa4', '@__pchrc', '@ZZIN____ ', '@dansihunter', 'iamyunji', '@mardred1010', '@_11air,@jiofkim,@ZzoRSD', '@nong_8E, @Mosisi_cake', '@YAPinHS', '@aoqhrtkfkdsl', 'https://twitter.com/oyo_atelier', '@cookylove19', '', '@soda_14_', '@Doglass1001', '@matak_223344, @muuu0101', '@yeonsae78', '@rebie_in_2', 'spacearu', '@나중에추가하자', '', 'bacteriagun', '-', '@bb_soju', '@hey__cutie', '@bbakmakemecrazy', '@huesark', 'DD_0404', '@k_heng1223,@lxveyaq', '@S22023AA', 'purple_1line', '@doppdoppdopp', '@chrs_1234567890', '@mmnr_yr', 'twitter.com/ideatami01', '', '@GAMPANGPANG_', '@oh_my_cp', '@Marron_House', '@so_zzi', 'blueloty', '@nnyom_3, @sistina_w', '@H_ato0806', 'hwasanhae', 'caca_ppa', '@Ohtaku_VR', '@3TX53L2GU', 'piece0and', '@dolyung1 , @Say5andhit6', '@yaja_i7, @eocie8, @inanaga17', 'wiggle_eworm', 'milksikkbbang, ronno_5 ', '@P3ACHB0X', 'kkyaleuleuk', '14_hanamja', 'HAG_52', '05061224_', 'tbfpdl', '@DUUK_DDACK__', '@Ma_li_garden', '@LmhGoLeft', '@MobRei_sosite', '@mob_poza', 'mongle_softly', '@byeokdolang', '@celineee915 ', 'D_SANME,gumoarchive,forevermoreor', '@C3o00', '@167_cm_o', '@ma_man_ma_', '@baskebbi', '@muhae_muhae', '@moonuuh, @Hwiyyen', 'nongsig06', '@tteoneug', '@haemsuglang', '@ekfoRltkfgo725', '@', 'comet_xio', '@m__ulti', '', '@silver_waveJ', 'under3km', '@p1rorin9', '@12th_baobob', '@mk_gudok ', 'taco_v3', '@gumcheong21', '@come_backstrong', '', '@joomukbab', '@xmrjs_v @TRI_sssdona @Peanuts_TG ', 'kong_mdzs', '@mangnani01', '@rabbit_ryang', '@ma_vayd', 'G341748', '@2D_what', '@gbgfhgtstty', 'alzkd0510', '@ows28888888', '', '@obok_5', '@solgocheong2', '@sweetblue1010', 'https://twitter.com/ceremony_asa', '@MUYA_SAY', '@JELLY__2222', '@vuuueeee', 'karo_pic', 'bbing_zzi', '@1592_1792', '', '@GulbiMyeol', '@flomyboom', '@emma_lid_', '@noreunza_', '', 'pizzalove57', '@Trashingarden', '@akaa_5', '431WASH', '@GIAK0110', '@bin_s2_you', '', '@AKAASHI_BLUE', '@mung1424', '@sojang_o, @fallin_nagyuk', '@BBoJJaKKyu', '@dmddozlaxx', '@mangmu_lover', '@tydlclwnrehfhr1', '@mra_bong', '@knack_mdzs', '@gmalch_kim', '@06__28__', '@mob_blitiy', 'Papaya_mm', '@hwasan_sam', 'masoidea', '@pira1049, @hwasan_maehwa', '1000m_ML', 'nongsig06', '@Heosa_2306', 'kimgyul', '@lovey_dot', '_SOOZO', '@amitie_lune', '@ita_mi_ng, @I43means', '@board00036', '@jGvaxx @cryinggas', '@furufurude', '@teabag_gj', '@woobin124', '@soya_122', '@lllbadgelll', '@mingx100, @sinarim100', '@dkueho_001', 'sugarsaltdayz ', 'Haaagea', 'shifour4quatro', '6am66ang', '@pekiflowmeter_2', 'nongne_11', 'TargetSigma', '@17171771_U', 'youyouyouyour11', '@senpasenlove', '@4tleastoneforU, @ryungsillust', 'ksk535', '@kimsye_RZ', '@deepdownsee_ome', 'mozzarellaori', '@hope_118_', '@hnuunk', '@doryeot_silla', '@id_z', '@peding_', '@LOH_Dageudak', '@_linalord_', '@baao_o9', '@otasa_1203', '@_ghanacho, @Mue_silly', 'uneechip', '@nurungji_v / @Oh_myeol_chi / @yujacha74261614', '@Chayo_sq / @ahua_cam011i', '@the_rotorri', '@ayama_v', '@for_mememe', '@gana_dana_ba ', '@Eunsul_1109 , @SOSA3451 ', '@saae_ang', 'tenkei121', '@PURPLExRED_, @namai77', '@swish_000', '@Alchemist_for', '@moon_KANV', 'extension404', '@kamhee_', '@y0ung0_weaving', '@chipu_choco', '@76432O', '@wolfXvashWV', 'youkann_amaz', '@bidulgi83774', 'Dr_Ecris', '@1Didol_deok', '@KHR_Air', '@enough_iro', '@2233_0104,@OG__MAN', '@sunrisehgtt', '@Brolyyoutoo', '@MP0yp', '@Ooo_UOU_ooO', '@cactus_G_T', '@Mora_bboyo', '@_ussul, @199999and616', '@angelinwaffle', 'Citronplanet', '@nyangdoooo', '@_204x175', '@ccoommuull', '@oO13__oO', 'very2ndplace', 'm_yun_0', '@me_meming', '@tombiedraws', 'po_na__02', 'JJrato_illust', '@gidivl, @bieub_owo, @trigun_V', '@tocha_aa', 'SEIJI_Jang', '@non9_nol2', 'Salv_Temp14', '@__peach_S2', '@pajommxx', '@OoMmcK', '@EP_649', '@Nsiring', '@aaaaaigobyoya, @mang2nyang2, @beastsociety7', '@tokyojisan @Touyu_1210', '@', '@anthology_jhsy', '@185cm_158cm', '@myoha_S2', '@babababbabbab', '@repacking001', '@nupaeng_DRB', '_bangtto_', '@Dowon_777, @basketbaxxcourt', '@hwachinnyeo ', '.', '@qordjs__s', '@ARECA_palm_', '@ovoppvv', '@wkq__ejr', '#ueongeueong', 'hrdtaco', '@superdd0', '@charm_ing_gem', '@gmlfud898', '@udonxme', '@gudulgugi', '@mdhxuiw', 'https://twitter.com/Ichliebedich314', '\\u2066\\u202a@myeong_mm\\u202c\\u2069', '@lanxi_SPL', '@caelum_277,@probooms,@specter__novel', '@shrimp_tem_ooo', '@Ssomesolar', '@hdong_st', '@salt_richhh', '@sleep_very_well', 'RawPlants0721', '망무', '@lucidus_laelaps', '@BR0KEIV', '@xcyanu', '@blossnowing', 'quere_vvv', 'fkawnltjsej1', '@yoaketime', '@donkey0916', 'N_D_DO', 'RanrindoS2', '@Magic_holic', '@SARI42_1218', '@flowerXcafe', '@5ireyoga', '@hb_rosemary', '@hey_lemonapple', '@tw_egg_2', 'Y_CreamS2', '@kil_the_silver', '@donggilkong, @ojisang_daeman', '@Hodu_0101', '@10ho_0310', 'gkalsdl11', '@KisragiT', '@Marmal_0329', 'blueseun', '@LUKAPANG__9158', '@hjmtakknmf19', '', 'penguin_ppoyo', '@sumeruboys_', '@marineraki', '@hattam315', 'mrmrmremaru', '@ramue_, @shidal_10, @cho_cho180', '@', '@banpilcheong', '@something_uaa', '', '@bloom_robinia', '@book_ghks', '@Hamkuku_sea', 'Acenisang0101', '@January_the_sun', '@Im_Your_Annyung', '@Nz2ddnDi @nong_345', '@honeyrusks_plz', '@osub_000', '@basketball1ady', 'crazykanchou', '@JD_tls250', '@hodogaza', '@n5amo', '@homilpain', 'Kan_10100, madoyo0000', 'Nongnol234, nong_9_gong', '@black', '@jettai_yohana', 'duuuums', '@minongsi', '@hot7720', '@teabag_gj', '@Seola_05', '@llllll_820', '@goni_hg', '@Piacere_S2 ', 'le2dduck', 'LKCH09', 'baka_mono_', '061mp_', '', 'kkingk1010', '@rmke_cho', '@1d6DICE', '@N_4091', '@team_cruise', '@SIHAST', '@teamLunacy_trpg', '@Team_RGBK', '@Team_SHiKL', '@team_zodiac_tr', '@TEAM_PERSPA', '@Team_Laputa', 'iam_others', 'Tr__pulse', '@Team_osorigull', '@060re_', '@TRPG_CreativeT1', '@TR_Assistant', '@CTHULHU_PARK', '@DX3_Hyomo, @Sasa_TRPG_', '@LongTale_TRPG', '@SweetSorghum___', '@Jmc_hana', '@yagi_do_game', '@salmon_please', '@Haribo_TR', '@lil_undead_kp', 'FF14_dasse', '@Team_dalda', '@chitochito_s', '@sorryMCE', '@starwisher_on', '@Team_Fourheaded', '@cmj_TRPG', '@Seig_o3o', '@insane_spring', '@loveletter_214, @PS__TRPG', '@Blen_studio', '@Kotokunibito', '@trpg_play_now', '@hepatrpg', '@N0C7U1D43', '@writerbaek_trpg', '@AF_TRPG, @iqFMyIaYdo3NtBh', '@TR_B_G (위탁온리)', '@Abyss_Bloom', '@PA4A4A9', '@YahoBerryMuch', '@Basketof_TB', '@dansak_open', '@constellar_owl', 'amadodilo', '@l_IO_OI_I_TRPG', 'KyungWoo5', '@tastebud_trpg', '@bibimtunamayo @knock_horizon  @parz_999', 'srkg_trpg', '@Team_INSBUS', '@ingkmx2', '@aken_gaming', '@GGe_Bicham', 'GM_townfarmer', 'paradoxcho', '@TRPG_crocodile', '@kra_trpg', '@TRPG_HARM', 'team_bathbomb', '@nitaslxk', '@Tryoram', '@tr5rone', '@Eternal_TR', '@projectkuki , @kinderrhap', '@TEAM_GGUK', '@Rike_0704', '@RPGrhafyd', 'https://x.com/eyoop02?t=WHIr52CVjXb8VtYSnMq1yQ&s=09', 'hippo1157', '@d_esper_', '@GW_Taroo', 'qnamxoxo', '@nnoijaguar', '@3ORGNing_8', '@myuongS2', '@3joong_5girl', '@jinny_0611', '@craft_priism', '@nongba_', '@UvU_OvO_UvU', '@omimuyo', '@gileogim', 'A_MOLA_PGONEHAE', '', '@apricot_tarte_', 'iamyunji', '@hanadul1040', '@f3loeyb', 'kkebistore', '@o_o_oim', '@Brolyyoutoo', 'Mu1ting', '97wsts97', 'https://twitter.com/ideatami', '@rewee_90 ', '@quasarose', '@yaja_i7, @eocie8, @inanaga17', '@pjeu26', '1110_shubi', '@alan_twt_', '@knotknitted', '@moon_shine12', '4kkangzz', 'soboru830', 'salitjing', '@ho_it_o_o', '@59y_1', 'nitosaniwa', '@06__28__', '@juneeunjune', '@juunzi2', '@SB_01911', '@Orwith_', '@v8ooo0ooo8v', ' @shdshfrha', '@sg12trg', 'STL0022', '@ksminiyoo', '@fibab_4', '@Mint1Purple', 'shines_247', '@gudokjungdok', '@jiyu_Fseven / @seemel_art', '@mv1mg', '22chimitti', 'H0SO_', '@spaceita', 'kil_the_silver', '@choi_t0t', '@PPenpen22', '@pureun_darak', '@beth_rooom', '@za_yess', '@digogo5220', 'milfhodo', '.', '@Granpresto', 'LOVE__DIE_DIE', '@Sapphire_4825', 'tbbt130', '@mondaitreza', 'rainbow_frogy', '@nabeia0', 'lovechro', '@rino__kj', 'JKT_sonic', '@juya953505', '@PToE_118', '@_POR_TT', '@GARU_ROONG', '@mo_ttak', '@YawningCat03', '@becoming_your__', '@Insectbox', '@BS_PDC', '@nenmul', '@jiil959595', '@Jinseng_Red', '@kje5645_tdgs', '@nam_eh_co', '@roh_Ewoong', '@nainndakarane', '@holdonyoubreath', 'mmdd45c', '@Rano_ily', '@disciplexmentor, @Chief_ama', '', '@spiderzelly', '@baemc95', '@gwari___', '@NaviaChoi', '@cats_mandu', '@Chungryu_srh', '@gmlwls2612', '@_notfeed', '@side_in_game', '@jeongsagack', 'sm5927602', '@qpqp_789', '7th_LUNAR', 'na_ruppa', '@Murai_ok', 'tlzn01', '@gogoma5203', '@gamitales', '@CoxvAy, @kagonam624', 'me_ya_ri', '@MIAs_last_leap2', '@7percent_fate', '@ropuning', '@dangeunlol', '@rmwhrfrst', '@creamtiger_soda', '@pongpong0725', '@kak_fipy', '@ManwolGoods', '@jidong_k', '@obxxex', 'hsfsoup', '@Enzian_1214', '@ANSUSANG', '0doredore', 'jung__rk', '@psyblix', '@skyblue_carmine', '@pang2_pang2', '@TB_416', '@ok_jeja', '@pb_edge', '@glayt_shukou', '@bans_works', '', '@Colet_Colettia', '@underwor1dhuman', '@daybreakh0riz0n', '@eoltto', '@burst_zb', 'jjigae6', '@m11sh0', '@___garakuta_', 'filiaulcopt', '@deza_job', '@nandashoog', '@SANSAMCHO', '@forgand24', 'foundhappyplace', '@tabom0w0', '@nupnup_draw, @wham_x2', '@4tleastoneforU', '_PATATAmericana', '@gaesolimo', '@DanHBYang', '@Lusy_nu', 'mulgogi_moon', '@_linalord_', '@seneu107', '@raccoon_dance_', 'https://twitter.com/yycckk33', '@5gurimma', '@nowinnolife3', '5altybitter5', '@notsuperluminal', '@kyaong511256 , @fkdroproject , @destinylip_a', 'HWIUN_', '@Ru_tales', 'prisonerLA123', '@aawhffu', '@TOKA_or_SorT', 'pinktokifire', '@P0PH0T0_14', '@horiring2 @choryang0323', '@BBSBri_ML', '@Kong__gogi', '@BG3_gun3', '@currycroqman', '@sacho56', 'gudogmanilado', '@asi7817', '@hansiosibSAMbun', 'yume_fuchi', 'Azmrpo', '@In_ourtime, @projectyene', '@SU_MNI', '@BB3oe', 'vbs4p', '', '@co_co_dayo_', '@ws1r_l', '@pesone', '@goodlookimmj', '@H0NEYC00', '@jo_jk_ts_gj', '@CAUTION23943992', 's_croftmanor', '@truepainkillerr', '@vbsqs2', '@sunga_122', '@Mung22ya @5rD8x', '@S4MJUM', '@laki_1920x1080', '@hb_rosemary', 'erueru77', 'L0V3_DISAST3R', '@siam_dream55', '@Coumarinnn', 'megamemeplay', '@MoD5568', '@TEA_FOP', '@moogyoza', '@Haru_2430', '@mattang0915', '', '@KMCHRR_L', '@hoji_888', '@Vivim_bab_squad, @3woomy3', '_0723_1204', 'pistilandstigma', 'Sunmoon_shop16', '@Cooga_01', '_als_dk', '@p0maho', '@Runtz_', '@platina_1117', '@galar_1JJANG', 'hyunyaro', '@Jang8samo', '@R3DZ3ST', '@lita_persona']\n"
     ]
    }
   ],
   "source": [
    "import pickle\n",
    "\n",
    "\n",
    "# open \n",
    "file_path = 'raw_list.pkl'\n",
    "with open(file_path, 'rb') as file:\n",
    "    twitter_acc_list_raw = pickle.load(file)\n",
    "\n",
    "\n",
    "\n",
    "\n",
    "print(len(twitter_acc_list_raw))\n",
    "print(twitter_acc_list_raw)\n"
   ]
  },
  {
   "cell_type": "code",
   "execution_count": 48,
   "metadata": {},
   "outputs": [
    {
     "name": "stdout",
     "output_type": "stream",
     "text": [
      "775\n"
     ]
    }
   ],
   "source": [
    "# 1차 preprocess: 중복값 제거\n",
    "unique_list = list(set(twitter_acc_list_raw))\n",
    "\n",
    "print(len(unique_list))"
   ]
  },
  {
   "cell_type": "code",
   "execution_count": 49,
   "metadata": {},
   "outputs": [
    {
     "name": "stdout",
     "output_type": "stream",
     "text": [
      "\n",
      "-\n",
      ".\n",
      "@\n",
      "771\n"
     ]
    }
   ],
   "source": [
    "#2차: 더미 값 제거(length <2인 값들 삭제)\n",
    "for acc_name in unique_list:\n",
    "    if(len(acc_name)<2):\n",
    "        print(acc_name)\n",
    "        unique_list.remove(acc_name)\n",
    "print(len(unique_list))"
   ]
  },
  {
   "cell_type": "code",
   "execution_count": 50,
   "metadata": {},
   "outputs": [
    {
     "name": "stdout",
     "output_type": "stream",
     "text": [
      "twitter.com/ideatami01\n"
     ]
    }
   ],
   "source": [
    "#3차: 주소가 url link로 있을 경우 일반 아이디 값으로 대치하가\n",
    "for acc_name in unique_list:\n",
    "    # if('twitter.com/' in acc_name):\n",
    "    #     new_name = acc_name.replace('twitter.com/','')\n",
    "    #     unique_list.append(new_name)\n",
    "    #     unique_list.remove(acc_name)\n",
    "\n",
    "    if('https://twitter.com/' in acc_name):\n",
    "        new_name = acc_name.replace('https://twitter.com/','')\n",
    "        unique_list.append(new_name)\n",
    "        unique_list.remove(acc_name)\n",
    "\n",
    "    if('https://x.com/' in acc_name):\n",
    "        new_name = acc_name.replace('https://x.com/','')\n",
    "        unique_list.append(new_name)\n",
    "        unique_list.remove(acc_name)\n",
    "\n",
    "for acc_name in unique_list:\n",
    "    if('twitter.com/'in acc_name):\n",
    "        print(acc_name)"
   ]
  },
  {
   "cell_type": "code",
   "execution_count": 51,
   "metadata": {},
   "outputs": [
    {
     "name": "stdout",
     "output_type": "stream",
     "text": [
      "['@kyaong511256 ', ' @fkdroproject ', ' @destinylip_a']\n",
      "['@mitsu_Umai', ' @llill11_mytak']\n",
      "['@sickziguuu', '@pp10pple']\n",
      "['@dolyung1 ', ' @Say5andhit6']\n",
      "['@projectkuki ', ' @kinderrhap']\n",
      "['@SD_TOB', ' @wkqmfldpf']\n",
      "['@Dowon_777', ' @basketbaxxcourt']\n",
      "['@rO5oORolxV45228', ' @dndpdndpdn', ' @ju_saa4']\n",
      "['@_11air', '@jiofkim', '@ZzoRSD']\n",
      "['@_ghanacho', ' @Mue_silly']\n",
      "['@gidivl', ' @bieub_owo', ' @trigun_V']\n",
      "['@AF_TRPG', ' @iqFMyIaYdo3NtBh']\n",
      "['Nongnol234', ' nong_9_gong']\n",
      "['@A_S15771577', ' @kkax2___', ' @trigun_gun', ' @Kummerspeck_J']\n",
      "['@LUN_CH_', ' @xx_betti']\n",
      "['@llIIllIIlIlIo', ' @hosing_']\n",
      "['@PURPLExRED_', ' @namai77']\n",
      "['@donggilkong', ' @ojisang_daeman']\n",
      "['@yaja_i7', ' @eocie8', ' @inanaga17']\n",
      "['@sojang_o', ' @fallin_nagyuk']\n",
      "['@caelum_277', '@probooms', '@specter__novel']\n",
      "['@nupnup_draw', ' @wham_x2']\n",
      "['@nnyom_3', ' @sistina_w']\n",
      "['@In_ourtime', ' @projectyene']\n",
      "['@bburang_100', '@iqFMyIaYdo3NtBh']\n",
      "['Kan_10100', ' madoyo0000']\n",
      "['@DX3_Hyomo', ' @Sasa_TRPG_']\n",
      "['@4tleastoneforU', ' @ryungsillust']\n",
      "['@moonuuh', ' @Hwiyyen']\n",
      "['@nongbam_oO', '@poorthing__']\n",
      "['@loveletter_214', ' @PS__TRPG']\n",
      "['@ramue_', ' @shidal_10', ' @cho_cho180']\n",
      "['@Eunsul_1109 ', ' @SOSA3451 ']\n",
      "['@2233_0104', '@OG__MAN']\n",
      "['@_ussul', ' @199999and616']\n",
      "['D_SANME', 'gumoarchive', 'forevermoreor']\n",
      "['@aaaaaigobyoya', ' @mang2nyang2', ' @beastsociety7']\n",
      "['@disciplexmentor', ' @Chief_ama']\n",
      "['@Sstofgoak_', ' @SION_428']\n",
      "['@pira1049', ' @hwasan_maehwa']\n",
      "['wandu_sd', ' rn_fla_12123']\n",
      "['@k_heng1223', '@lxveyaq']\n",
      "['milksikkbbang', ' ronno_5 ']\n",
      "['@Eva_7474 ', ' @k1vGGP ', ' @TMRIGUN']\n",
      "['@mingx100', ' @sinarim100']\n",
      "['@goodbeing_', ' @MP_Fostress', ' @oKKRo_911']\n",
      "['@ita_mi_ng', ' @I43means']\n",
      "['@CoxvAy', ' @kagonam624']\n",
      "['@nong_8E', ' @Mosisi_cake']\n",
      "['@Vivim_bab_squad', ' @3woomy3']\n"
     ]
    }
   ],
   "source": [
    "# 4차: 한 요소에 두개 이상의 아이디 split 하기\n",
    "for acc_name in unique_list:\n",
    "    if(',' in acc_name):\n",
    "        split_by_comma = acc_name.split(',')\n",
    "\n",
    "        for split_acc in split_by_comma:\n",
    "            unique_list.append(split_acc)\n",
    "        unique_list.remove(acc_name)\n",
    "\n",
    "        print(split_by_comma)\n",
    "\n",
    "# for acc_name in unique_list:\n",
    "#     if('/' in acc_name):\n",
    "#         split_by_comma = acc_name.split('/')\n",
    "\n",
    "#         for split_acc in split_by_comma:\n",
    "#             unique_list.append(split_acc)\n",
    "#         unique_list.remove(acc_name)\n",
    "\n",
    "#         print(split_by_comma)\n"
   ]
  },
  {
   "cell_type": "code",
   "execution_count": 53,
   "metadata": {},
   "outputs": [],
   "source": [
    "for i in range(0,len(unique_list)): # @ 삭제하기\n",
    "    # print(i)\n",
    "    # print(unique_list[i])\n",
    "    if('@' in unique_list[i]):\n",
    "        print(\"있음.\",unique_list[i])\n",
    "        unique_list[i] = unique_list[i].replace('@','')\n",
    "\n",
    "for i in range(0,len(unique_list)):\n",
    "    unique_list[i] = unique_list[i].strip()"
   ]
  },
  {
   "cell_type": "code",
   "execution_count": 54,
   "metadata": {},
   "outputs": [
    {
     "name": "stdout",
     "output_type": "stream",
     "text": [
      "834\n",
      "5gurimma\n",
      "_POR_TT\n",
      "061mp_\n",
      "Team_RGBK\n",
      "llllll_820\n",
      "hepatrpg\n",
      "so_zzi\n",
      "gmalch_kim\n",
      "hot7720\n",
      "Blen_studio\n",
      "kra_trpg\n",
      "5ireyoga\n",
      "baemc95\n",
      "__pchrc\n",
      "baao_o9\n",
      "Granpresto\n",
      "H0NEYC00\n",
      "KMCHRR_L\n",
      "tr5rone\n",
      "sm5927602\n",
      "hansiosibSAMbun\n",
      "bbttup\n",
      "JKT_sonic\n",
      "raindroplena\n",
      "black\n",
      "little_modao\n",
      "jiil959595\n",
      "Seola_05\n",
      "hippo1157\n",
      "7percent_fate\n",
      "aawhffu\n",
      "m11sh0\n",
      "A_MOLA_PGONEHAE\n",
      "doryeot_silla\n",
      "shdshfrha\n",
      "bb_soju\n",
      "wkq__ejr\n",
      "extension404\n",
      "tlzn01\n",
      "p1rorin9\n",
      "4kkangzz\n",
      "heroaca_petit\n",
      "blueloty\n",
      "shines_247\n",
      "iamyunji\n",
      "fu_duri\n",
      "ionblue\n",
      "myoha_S2\n",
      "na_ruppa\n",
      "juunzi2\n",
      "BS_PDC\n",
      "R3DZ3ST\n",
      "kitami28\n",
      "geguri_store\n",
      "chiaki_0219\n",
      "GARU_ROONG\n",
      "salmon_please\n",
      "D100NG nakm8_ Ddu_100\n",
      "mv1mg\n",
      "nitaslxk\n",
      "gileogim\n",
      "DanHBYang\n",
      "jen_3580 / fluffy_summer__\n",
      "⁦‪wagamamahimez‬⁩\n",
      "SU_MNI\n",
      "kil_the_silver\n",
      "kimgyul\n",
      "f3loeyb\n",
      "senpasenlove\n",
      "SweetSorghum___\n",
      "yanpsk_03\n",
      "moon_KANV\n",
      "forgand24\n",
      "pang2_pang2\n",
      "hjmtakknmf19\n",
      "Rano_ily\n",
      "qpqp_789\n",
      "Sapphire_4825\n",
      "_als_dk\n",
      "060re_\n",
      "fkawnltjsej1\n",
      "나중에추가하자\n",
      "sipir02\n",
      "SB_01911\n",
      "lO9gy\n",
      "Team_INSBUS\n",
      "DD_0404\n",
      "paradoxcho\n",
      "ropuning\n",
      "n5amo\n",
      "Tr__pulse\n",
      "prayer_meta\n",
      "anthology_jhsy\n",
      "byeokdolang\n",
      "hb_rosemary\n",
      "uneechip\n",
      "asebury\n",
      "vivid_1231\n",
      "rustina06\n",
      "team_zodiac_tr\n"
     ]
    }
   ],
   "source": [
    "print(len(unique_list))\n",
    "\n",
    "for i in range(200,300):\n",
    "    print(unique_list[i])"
   ]
  },
  {
   "cell_type": "code",
   "execution_count": 55,
   "metadata": {},
   "outputs": [
    {
     "name": "stdout",
     "output_type": "stream",
     "text": [
      "      개최일  부스 위치  자리수  대표작품                           계정아이디  계정명  팔로워수  \\\n",
      "0     NaN    NaN  NaN   NaN                       JD_tls250  NaN   NaN   \n",
      "1     NaN    NaN  NaN   NaN                       phaleplum  NaN   NaN   \n",
      "2     NaN    NaN  NaN   NaN  xmrjs_v TRI_sssdona Peanuts_TG  NaN   NaN   \n",
      "3     NaN    NaN  NaN   NaN                       TRPG_HARM  NaN   NaN   \n",
      "4     NaN    NaN  NaN   NaN                     mondaitreza  NaN   NaN   \n",
      "...   ...    ...  ...   ...                             ...  ...   ...   \n",
      "1436  NaN    NaN  NaN   NaN                             NaN  NaN   NaN   \n",
      "1437  NaN    NaN  NaN   NaN                             NaN  NaN   NaN   \n",
      "1438  NaN    NaN  NaN   NaN                             NaN  NaN   NaN   \n",
      "1439  NaN    NaN  NaN   NaN                             NaN  NaN   NaN   \n",
      "1440  NaN    NaN  NaN   NaN                             NaN  NaN   NaN   \n",
      "\n",
      "      최상단트윗_알티  최상단트윗_마음  최상단트윗_노출수  최상단트윗_내용  multiple_ids  \n",
      "0          NaN       NaN        NaN       NaN           NaN  \n",
      "1          NaN       NaN        NaN       NaN           NaN  \n",
      "2          NaN       NaN        NaN       NaN           NaN  \n",
      "3          NaN       NaN        NaN       NaN           NaN  \n",
      "4          NaN       NaN        NaN       NaN           NaN  \n",
      "...        ...       ...        ...       ...           ...  \n",
      "1436       NaN       NaN        NaN       NaN           NaN  \n",
      "1437       NaN       NaN        NaN       NaN           NaN  \n",
      "1438       NaN       NaN        NaN       NaN           NaN  \n",
      "1439       NaN       NaN        NaN       NaN           NaN  \n",
      "1440       NaN       NaN        NaN       NaN           NaN  \n",
      "\n",
      "[1441 rows x 12 columns]\n"
     ]
    }
   ],
   "source": [
    "import random\n",
    "import time\n",
    "\n",
    "import pandas as pd\n",
    "import math\n",
    "\n",
    "data = pd.read_csv('acc_format.csv') \n",
    "\n",
    "for i in range(0,len(unique_list)):\n",
    "    data.loc[i,\"계정아이디\"] = unique_list[i]\n",
    "\n",
    "print(data)\n",
    "\n",
    "\n",
    "data.to_csv(\"final.csv\",index=False,encoding=\"utf-8-sig\")\n"
   ]
  }
 ],
 "metadata": {
  "kernelspec": {
   "display_name": "py38",
   "language": "python",
   "name": "python3"
  },
  "language_info": {
   "codemirror_mode": {
    "name": "ipython",
    "version": 3
   },
   "file_extension": ".py",
   "mimetype": "text/x-python",
   "name": "python",
   "nbconvert_exporter": "python",
   "pygments_lexer": "ipython3",
   "version": "3.8.18"
  }
 },
 "nbformat": 4,
 "nbformat_minor": 2
}
